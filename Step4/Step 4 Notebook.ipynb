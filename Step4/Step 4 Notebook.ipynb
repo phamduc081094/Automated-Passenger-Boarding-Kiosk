{
 "cells": [
  {
   "attachments": {},
   "cell_type": "markdown",
   "metadata": {},
   "source": [
    "### Install the required Python modules/SDKs "
   ]
  },
  {
   "cell_type": "code",
   "execution_count": 2,
   "metadata": {},
   "outputs": [
    {
     "name": "stdout",
     "output_type": "stream",
     "text": [
      "Collecting azure-cognitiveservices-vision-customvision\n",
      "  Downloading azure_cognitiveservices_vision_customvision-3.1.0-py2.py3-none-any.whl (62 kB)\n",
      "     -------------------------------------- 62.0/62.0 kB 822.1 kB/s eta 0:00:00\n",
      "Requirement already satisfied: azure-common~=1.1 in c:\\users\\harry\\anaconda3\\envs\\tf2_py39\\lib\\site-packages (from azure-cognitiveservices-vision-customvision) (1.1.28)\n",
      "Requirement already satisfied: msrest>=0.5.0 in c:\\users\\harry\\anaconda3\\envs\\tf2_py39\\lib\\site-packages (from azure-cognitiveservices-vision-customvision) (0.7.1)\n",
      "Requirement already satisfied: isodate>=0.6.0 in c:\\users\\harry\\anaconda3\\envs\\tf2_py39\\lib\\site-packages (from msrest>=0.5.0->azure-cognitiveservices-vision-customvision) (0.6.1)\n",
      "Requirement already satisfied: requests~=2.16 in c:\\users\\harry\\anaconda3\\envs\\tf2_py39\\lib\\site-packages (from msrest>=0.5.0->azure-cognitiveservices-vision-customvision) (2.28.1)\n",
      "Requirement already satisfied: certifi>=2017.4.17 in c:\\users\\harry\\anaconda3\\envs\\tf2_py39\\lib\\site-packages (from msrest>=0.5.0->azure-cognitiveservices-vision-customvision) (2023.7.22)\n",
      "Requirement already satisfied: azure-core>=1.24.0 in c:\\users\\harry\\anaconda3\\envs\\tf2_py39\\lib\\site-packages (from msrest>=0.5.0->azure-cognitiveservices-vision-customvision) (1.29.5)\n",
      "Requirement already satisfied: requests-oauthlib>=0.5.0 in c:\\users\\harry\\anaconda3\\envs\\tf2_py39\\lib\\site-packages (from msrest>=0.5.0->azure-cognitiveservices-vision-customvision) (1.3.1)\n",
      "Requirement already satisfied: typing-extensions>=4.6.0 in c:\\users\\harry\\anaconda3\\envs\\tf2_py39\\lib\\site-packages (from azure-core>=1.24.0->msrest>=0.5.0->azure-cognitiveservices-vision-customvision) (4.8.0)\n",
      "Requirement already satisfied: six>=1.11.0 in c:\\users\\harry\\anaconda3\\envs\\tf2_py39\\lib\\site-packages (from azure-core>=1.24.0->msrest>=0.5.0->azure-cognitiveservices-vision-customvision) (1.16.0)\n",
      "Requirement already satisfied: urllib3<1.27,>=1.21.1 in c:\\users\\harry\\anaconda3\\envs\\tf2_py39\\lib\\site-packages (from requests~=2.16->msrest>=0.5.0->azure-cognitiveservices-vision-customvision) (1.26.12)\n",
      "Requirement already satisfied: charset-normalizer<3,>=2 in c:\\users\\harry\\anaconda3\\envs\\tf2_py39\\lib\\site-packages (from requests~=2.16->msrest>=0.5.0->azure-cognitiveservices-vision-customvision) (2.1.1)\n",
      "Requirement already satisfied: idna<4,>=2.5 in c:\\users\\harry\\anaconda3\\envs\\tf2_py39\\lib\\site-packages (from requests~=2.16->msrest>=0.5.0->azure-cognitiveservices-vision-customvision) (3.4)\n",
      "Requirement already satisfied: oauthlib>=3.0.0 in c:\\users\\harry\\anaconda3\\envs\\tf2_py39\\lib\\site-packages (from requests-oauthlib>=0.5.0->msrest>=0.5.0->azure-cognitiveservices-vision-customvision) (3.2.1)\n",
      "Installing collected packages: azure-cognitiveservices-vision-customvision\n",
      "Successfully installed azure-cognitiveservices-vision-customvision-3.1.0\n"
     ]
    }
   ],
   "source": [
    "! pip install azure-cognitiveservices-vision-customvision"
   ]
  },
  {
   "attachments": {},
   "cell_type": "markdown",
   "metadata": {},
   "source": [
    "## Import libraries"
   ]
  },
  {
   "cell_type": "code",
   "execution_count": 1,
   "metadata": {},
   "outputs": [],
   "source": [
    "import requests\n",
    "from urllib.parse import urlparse\n",
    "from io import BytesIO\n",
    "from PIL import Image, ImageDraw\n",
    "import matplotlib.pyplot as plt\n",
    "\n",
    "import os, time, uuid, glob\n",
    "\n",
    "from azure.cognitiveservices.vision.customvision.training import CustomVisionTrainingClient\n",
    "from azure.cognitiveservices.vision.customvision.prediction import CustomVisionPredictionClient\n",
    "from azure.cognitiveservices.vision.customvision.training.models import ImageFileCreateBatch, ImageFileCreateEntry, Region\n",
    "from msrest.authentication import ApiKeyCredentials\n"
   ]
  },
  {
   "attachments": {},
   "cell_type": "markdown",
   "metadata": {},
   "source": [
    "## Creating Training & Prediting Client with credentials"
   ]
  },
  {
   "cell_type": "code",
   "execution_count": 2,
   "metadata": {},
   "outputs": [],
   "source": [
    "TRAINING_ENDPOINT = \"https://southeastasia.api.cognitive.microsoft.com/\"\n",
    "training_key = \"665348083c644194b2412cc6573cb764\"\n",
    "training_resource_id = '/subscriptions/66f1797a-2df0-402c-87dc-4ef25e3aeb7e/resourceGroups/aind-244110/providers/Microsoft.CognitiveServices/accounts/ducpc1_cv_training'\n",
    "\n",
    "PREDICTION_ENDPOINT = 'https://southeastasia.api.cognitive.microsoft.com/'\n",
    "prediction_key = \"e0f33ca749034e8a8b36e4a64c8f320a\"\n",
    "prediction_resource_id = \"/subscriptions/66f1797a-2df0-402c-87dc-4ef25e3aeb7e/resourceGroups/aind-244110/providers/Microsoft.CognitiveServices/accounts/ducpc1_cv_predict\""
   ]
  },
  {
   "cell_type": "code",
   "execution_count": 3,
   "metadata": {},
   "outputs": [
    {
     "data": {
      "text/plain": [
       "'3.4-preview'"
      ]
     },
     "execution_count": 3,
     "metadata": {},
     "output_type": "execute_result"
    }
   ],
   "source": [
    "training_credentials = ApiKeyCredentials(in_headers={\"Training-key\": training_key})\n",
    "trainer = CustomVisionTrainingClient(TRAINING_ENDPOINT, training_credentials)\n",
    "trainer.api_version"
   ]
  },
  {
   "cell_type": "code",
   "execution_count": 4,
   "metadata": {},
   "outputs": [
    {
     "data": {
      "text/plain": [
       "'3.1'"
      ]
     },
     "execution_count": 4,
     "metadata": {},
     "output_type": "execute_result"
    }
   ],
   "source": [
    "prediction_credentials = ApiKeyCredentials(in_headers={\"Prediction-key\": prediction_key})\n",
    "predictor = CustomVisionPredictionClient(PREDICTION_ENDPOINT, prediction_credentials)\n",
    "predictor.api_version"
   ]
  },
  {
   "attachments": {},
   "cell_type": "markdown",
   "metadata": {},
   "source": [
    "## Get project ID and iteration ID from portal"
   ]
  },
  {
   "cell_type": "code",
   "execution_count": 5,
   "metadata": {},
   "outputs": [
    {
     "name": "stdout",
     "output_type": "stream",
     "text": [
      "Project ID:  a0c138ba-42fc-41e3-91b7-492b67f69ab0\n"
     ]
    }
   ],
   "source": [
    "project_id = trainer.get_projects()[0].id # Assume this is the only project on portal\n",
    "print(\"Project ID: \", project_id)"
   ]
  },
  {
   "cell_type": "code",
   "execution_count": 8,
   "metadata": {},
   "outputs": [],
   "source": [
    "iteration_list = trainer.get_iterations(project_id)\n",
    "chosen_iteration_id = None\n",
    "for iteration in iteration_list:\n",
    "    if iteration.name == \"Iteration 1\":\n",
    "        chosen_iteration_id = iteration.id"
   ]
  },
  {
   "attachments": {},
   "cell_type": "markdown",
   "metadata": {},
   "source": [
    "## Publish api with selected training iteration"
   ]
  },
  {
   "cell_type": "code",
   "execution_count": 9,
   "metadata": {},
   "outputs": [
    {
     "name": "stdout",
     "output_type": "stream",
     "text": [
      "Done!\n"
     ]
    }
   ],
   "source": [
    "publish_iteration_name = \"lighter-detection-ducpc1\"\n",
    "trainer.publish_iteration(project_id, chosen_iteration_id, publish_iteration_name, prediction_resource_id)\n",
    "print (\"Done!\")"
   ]
  },
  {
   "attachments": {},
   "cell_type": "markdown",
   "metadata": {},
   "source": [
    "## Perform prediction on test baggage images"
   ]
  },
  {
   "cell_type": "code",
   "execution_count": 16,
   "metadata": {},
   "outputs": [],
   "source": [
    "def perform_prediction(predictor, publish_iteration_name, image_folder, threshold=0.8):\n",
    "    list_images = glob.glob(os.path.join(image_folder, '*.jpg'))\n",
    "    print(len(list_images))\n",
    "    for image_file_path in list_images:\n",
    "        print(\"Predicting image: \", image_file_path)\n",
    "        with open(image_file_path, \"rb\") as image_contents:\n",
    "            results = predictor.detect_image(project_id, publish_iteration_name, image_contents.read())\n",
    "            # Display the results.\n",
    "            for prediction in results.predictions:\n",
    "                if prediction.probability >= threshold:\n",
    "                    print(\"\\t\" + prediction.tag_name +\n",
    "                          \": {0:.2f}%\".format(prediction.probability * 100))"
   ]
  },
  {
   "cell_type": "code",
   "execution_count": 21,
   "metadata": {},
   "outputs": [
    {
     "name": "stdout",
     "output_type": "stream",
     "text": [
      "6\n",
      "Predicting image:  D:\\Working\\Code\\Udacity\\Duc_Project\\computer_vision\\starter\\lighter_test_images\\lighter_test_set_1of5.jpg\n",
      "\tlighter: 81.25%\n",
      "Predicting image:  D:\\Working\\Code\\Udacity\\Duc_Project\\computer_vision\\starter\\lighter_test_images\\lighter_test_set_2of5.jpg\n",
      "\tlighter: 99.65%\n",
      "Predicting image:  D:\\Working\\Code\\Udacity\\Duc_Project\\computer_vision\\starter\\lighter_test_images\\lighter_test_set_3of5.jpg\n",
      "\tlighter: 95.28%\n",
      "Predicting image:  D:\\Working\\Code\\Udacity\\Duc_Project\\computer_vision\\starter\\lighter_test_images\\lighter_test_set_4of5.jpg\n",
      "Predicting image:  D:\\Working\\Code\\Udacity\\Duc_Project\\computer_vision\\starter\\lighter_test_images\\lighter_test_set_5of5.jpg\n",
      "\tlighter: 99.72%\n",
      "\tlighter: 98.01%\n",
      "Predicting image:  D:\\Working\\Code\\Udacity\\Duc_Project\\computer_vision\\starter\\lighter_test_images\\paggage_no_lighter.jpg\n",
      "\tlighter: 98.46%\n"
     ]
    }
   ],
   "source": [
    "image_test = r\"D:\\Working\\Code\\Udacity\\Duc_Project\\computer_vision\\starter\\lighter_test_images\"\n",
    "perform_prediction(predictor, publish_iteration_name, image_folder=image_test)"
   ]
  },
  {
   "cell_type": "code",
   "execution_count": null,
   "metadata": {},
   "outputs": [],
   "source": []
  }
 ],
 "metadata": {
  "kernelspec": {
   "display_name": "Python 3",
   "language": "python",
   "name": "python3"
  },
  "language_info": {
   "codemirror_mode": {
    "name": "ipython",
    "version": 3
   },
   "file_extension": ".py",
   "mimetype": "text/x-python",
   "name": "python",
   "nbconvert_exporter": "python",
   "pygments_lexer": "ipython3",
   "version": "3.9.13"
  }
 },
 "nbformat": 4,
 "nbformat_minor": 2
}
